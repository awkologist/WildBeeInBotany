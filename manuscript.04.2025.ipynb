{
 "cells": [
  {
   "cell_type": "markdown",
   "id": "238761dd-39b6-4eef-8f94-d4a9322261a4",
   "metadata": {},
   "source": [
    "# WildBeeInBotany\n",
    "This Bash kernel Jupyter Notebook accompains our manuscript entitled *Linking ITS2 Sequence Space to Pollen Foraging Patterns of Solitary Wild Bees* by Luisa Timm, Lisa Prudnikow, Röbbe Wünschiers and Manuela Sann."
   ]
  },
  {
   "cell_type": "code",
   "execution_count": null,
   "id": "be1c562c-cc51-4a7a-a142-dd718a7a594a",
   "metadata": {},
   "outputs": [],
   "source": []
  }
 ],
 "metadata": {
  "kernelspec": {
   "display_name": "Bash",
   "language": "bash",
   "name": "bash"
  },
  "language_info": {
   "codemirror_mode": "shell",
   "file_extension": ".sh",
   "mimetype": "text/x-sh",
   "name": "bash"
  }
 },
 "nbformat": 4,
 "nbformat_minor": 5
}
